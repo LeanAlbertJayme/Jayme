{
  "nbformat": 4,
  "nbformat_minor": 0,
  "metadata": {
    "colab": {
      "provenance": []
    },
    "kernelspec": {
      "name": "python3",
      "display_name": "Python 3"
    },
    "language_info": {
      "name": "python"
    }
  },
  "cells": [
    {
      "cell_type": "markdown",
      "source": [
        "#Chapter 7"
      ],
      "metadata": {
        "id": "nGODIzYS7MZt"
      }
    },
    {
      "cell_type": "markdown",
      "source": [
        "##Exercise 1"
      ],
      "metadata": {
        "id": "i112qtwD-8Y7"
      }
    },
    {
      "cell_type": "markdown",
      "source": [
        "Write a program to read through a file and print the contents of the file (line by line) all in upper case."
      ],
      "metadata": {
        "id": "5uC9QZSA_Fo3"
      }
    },
    {
      "cell_type": "code",
      "source": [
        "from google.colab import drive\n",
        "drive.mount('/content/drive')"
      ],
      "metadata": {
        "id": "DJ0Bqvrr-e1l",
        "colab": {
          "base_uri": "https://localhost:8080/"
        },
        "outputId": "be985869-94c8-4390-902f-b75e2f9cf64e"
      },
      "execution_count": 5,
      "outputs": [
        {
          "output_type": "stream",
          "name": "stdout",
          "text": [
            "Mounted at /content/drive\n"
          ]
        }
      ]
    },
    {
      "cell_type": "code",
      "source": [
        "file_name = input(\"Enter the file name: \")\n",
        "\n",
        "try:\n",
        "    with open(file_name, 'r') as file:\n",
        "        for line in file:\n",
        "            print(line.upper(), end='')\n",
        "except FileNotFoundError:\n",
        "    print(\"File not found.\")\n",
        "except Exception as e:\n",
        "    print(\"An error occurred:\", e)"
      ],
      "metadata": {
        "id": "ve2CHlD2_Ncj",
        "colab": {
          "base_uri": "https://localhost:8080/"
        },
        "outputId": "60b6607e-01ec-4dd8-d563-65d0bfa67409"
      },
      "execution_count": 3,
      "outputs": [
        {
          "output_type": "stream",
          "name": "stdout",
          "text": [
            "Enter the file name: /content/drive/My Drive/ICT 110/exer.txt\n",
            "LEAN ALBERT JAYME\n",
            "HILGEN ALBUNIAN\n"
          ]
        }
      ]
    },
    {
      "cell_type": "markdown",
      "source": [
        "##Exercise 2"
      ],
      "metadata": {
        "id": "QUFCHqGAAWdb"
      }
    },
    {
      "cell_type": "markdown",
      "source": [
        "Write a program to read through a file and output the number of lines in a file."
      ],
      "metadata": {
        "id": "gDcOn-L2A0a3"
      }
    },
    {
      "cell_type": "code",
      "source": [
        "file_name = open('/content/drive/MyDrive/ICT 110/exer.txt')\n",
        "text = file_name.read()\n",
        "print(len(text))"
      ],
      "metadata": {
        "colab": {
          "base_uri": "https://localhost:8080/"
        },
        "id": "A8sfXT5fA2QX",
        "outputId": "0d78832e-7198-4229-9425-8ab2193b3f06"
      },
      "execution_count": 5,
      "outputs": [
        {
          "output_type": "stream",
          "name": "stdout",
          "text": [
            "34\n"
          ]
        }
      ]
    },
    {
      "cell_type": "markdown",
      "source": [
        "##Challenge"
      ],
      "metadata": {
        "id": "TWf2RpORBJuy"
      }
    },
    {
      "cell_type": "markdown",
      "source": [
        "Write a program to prompt for a file name, and then read through the file and look for lines of the form:"
      ],
      "metadata": {
        "id": "-Q-AhjkNAjB5"
      }
    },
    {
      "cell_type": "markdown",
      "source": [
        "X-DSPAM-Confidence: 0.8475\n"
      ],
      "metadata": {
        "id": "BrAssET7Anbm"
      }
    },
    {
      "cell_type": "markdown",
      "source": [
        "When you encounter a line that starts with \"X-DSPAM-Confidence:\" pull apart the line to extract the floating-point number on the line. Count these lines and then compute the total of the spam confidence values from these lines. When you reach the end of the file, print out the average spam confidence."
      ],
      "metadata": {
        "id": "HHxGq6jtDlh0"
      }
    },
    {
      "cell_type": "markdown",
      "source": [
        "Enter the file name: mbox.txt Average spam confidence: 0.894128046745\n",
        "\n",
        "Enter the file name: mbox-short.txt Average spam confidence: 0.750718518519"
      ],
      "metadata": {
        "id": "rnk8zw6PDnp5"
      }
    },
    {
      "cell_type": "code",
      "source": [
        "file_name = input(\"Enter the file name: \")\n",
        "\n",
        "try:\n",
        "    with open(file_name, 'r') as file:\n",
        "        total_confidence = 0\n",
        "        count = 0\n",
        "\n",
        "        for line in file:\n",
        "            if line.startswith('X-DSPAM-Confidence:'):\n",
        "                confidence_str = line.split(':')[1].strip()\n",
        "                try:\n",
        "                    total_confidence += float(confidence_str)\n",
        "                    count += 1\n",
        "                except ValueError:\n",
        "                    print(\"Error: Invalid confidence value '{}'\".format(confidence_str))\n",
        "\n",
        "        if count > 0:\n",
        "            print(\"Average spam confidence:\", total_confidence / count)\n",
        "        else:\n",
        "            print(\"No 'X-DSPAM-Confidence' lines found in the file.\")\n",
        "\n",
        "except FileNotFoundError:\n",
        "    print(\"File not found:\", file_name)\n",
        "except PermissionError:\n",
        "    print(\"Permission denied:\", file_name)\n",
        "except Exception as e:\n",
        "    print(\"An error occurred:\", e)"
      ],
      "metadata": {
        "colab": {
          "base_uri": "https://localhost:8080/"
        },
        "id": "Ci54BukhApRw",
        "outputId": "1ecc555f-7f76-41d7-ea93-08dba3979318"
      },
      "execution_count": 6,
      "outputs": [
        {
          "output_type": "stream",
          "name": "stdout",
          "text": [
            "Enter the file name: /content/drive/My Drive/ICT 110/challenge.txt\n",
            "Average spam confidence: 0.8475\n"
          ]
        }
      ]
    }
  ]
}