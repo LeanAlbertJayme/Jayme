{
  "nbformat": 4,
  "nbformat_minor": 0,
  "metadata": {
    "colab": {
      "provenance": []
    },
    "kernelspec": {
      "name": "python3",
      "display_name": "Python 3"
    },
    "language_info": {
      "name": "python"
    }
  },
  "cells": [
    {
      "cell_type": "code",
      "execution_count": null,
      "metadata": {
        "id": "SS3tJMjJPjyn"
      },
      "outputs": [],
      "source": []
    },
    {
      "cell_type": "markdown",
      "metadata": {
        "id": "2r1OmmdJZMyW"
      },
      "source": [
        "## EXERCISES"
      ]
    },
    {
      "cell_type": "markdown",
      "metadata": {
        "id": "P_nlsZkaZMyW"
      },
      "source": [
        "#### Exercise 1\n",
        "\n",
        "Create a dictionary with the following keys and values showing a partial list of Real GDP growth in Annual percent change from IMF (Source: http://www.imf.org/external/datamapper/NGDP_RPCH@WEO/OEMDC/ADVEC/WEOWORLD)\n",
        "\n",
        "    China 6.5\n",
        "    Japan 0.7\n",
        "    Philippines 6.7\n",
        "    United States 2.3\n",
        "    "
      ]
    },
    {
      "cell_type": "code",
      "source": [
        "growth = {\n",
        "    'China': 6.5,\n",
        "    'Japan': 0.7,\n",
        "    'Philippines': 6.7,\n",
        "    'United States': 2.3\n",
        "}\n",
        "\n",
        "print(growth)\n"
      ],
      "metadata": {
        "colab": {
          "base_uri": "https://localhost:8080/"
        },
        "id": "N7-8_Jnaaa-u",
        "outputId": "6e4598bc-8d5c-4d6a-8923-9b8a5a3a8295"
      },
      "execution_count": 1,
      "outputs": [
        {
          "output_type": "stream",
          "name": "stdout",
          "text": [
            "{'China': 6.5, 'Japan': 0.7, 'Philippines': 6.7, 'United States': 2.3}\n"
          ]
        }
      ]
    },
    {
      "cell_type": "markdown",
      "metadata": {
        "id": "n9yymLgOZMyW"
      },
      "source": [
        "#### Exercise 2\n",
        "\n",
        "Display all the keys and values from the dictionary you created above\n"
      ]
    },
    {
      "cell_type": "code",
      "source": [
        "print(\"Keys:\")\n",
        "for country in growth:\n",
        "    print(country)\n",
        "\n",
        "print(\"\\nValues:\")\n",
        "for country, Rate in growth.items():\n",
        "    print(f\"{country}: {Rate}\")\n",
        "\n"
      ],
      "metadata": {
        "colab": {
          "base_uri": "https://localhost:8080/"
        },
        "id": "rHLdKPguauX9",
        "outputId": "a475197a-a1fc-4794-c77f-8e08f20a749e"
      },
      "execution_count": 2,
      "outputs": [
        {
          "output_type": "stream",
          "name": "stdout",
          "text": [
            "Keys:\n",
            "China\n",
            "Japan\n",
            "Philippines\n",
            "United States\n",
            "\n",
            "Values:\n",
            "China: 6.5\n",
            "Japan: 0.7\n",
            "Philippines: 6.7\n",
            "United States: 2.3\n"
          ]
        }
      ]
    },
    {
      "cell_type": "markdown",
      "metadata": {
        "id": "0r1O4ixZZMyW"
      },
      "source": [
        "#### Exercise 3\n",
        "\n",
        "Write a program that asks the user to enter a line of text and then counts the number of each word that appeared in the line of text.\n",
        "Use the string function `split()` to make a list of words from a given string\n",
        "e.g.:\n",
        "\n",
        "```python\n",
        "word_list = line.split()\n",
        "```\n",
        "\n",
        "will return a list of words from the string `line` and store it in the variable `word_list`.\n",
        "\n",
        "\n",
        "(Adapted from [PES])"
      ]
    },
    {
      "cell_type": "code",
      "source": [
        "\n",
        "line = input(\"Enter a line of text: \")\n",
        "\n",
        "word_list = line.split()\n",
        "\n",
        "word_counts = {}\n",
        "\n",
        "for word in word_list:\n",
        "\n",
        "    if word in word_counts:\n",
        "        word_counts[word] += 1\n",
        "    else:\n",
        "        word_counts[word] = 1\n",
        "\n",
        "print(\"Word counts:\")\n",
        "for word, count in word_counts.items():\n",
        "    print(f\"{word}: {count}\")\n",
        "\n"
      ],
      "metadata": {
        "colab": {
          "base_uri": "https://localhost:8080/"
        },
        "id": "KsVidgGCa9Gk",
        "outputId": "db1e68c8-5ab5-4cbc-d62e-e1246982d9c1"
      },
      "execution_count": 3,
      "outputs": [
        {
          "output_type": "stream",
          "name": "stdout",
          "text": [
            "Enter a line of text: lean gwapo lean wow lean wow gwapo\n",
            "Word counts:\n",
            "lean: 3\n",
            "gwapo: 2\n",
            "wow: 2\n"
          ]
        }
      ]
    }
  ]
}